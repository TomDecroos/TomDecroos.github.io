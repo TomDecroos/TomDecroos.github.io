{
 "cells": [
  {
   "cell_type": "raw",
   "metadata": {},
   "source": [
    "<meta name=\"viewport\" content=\"width=device-width, initial-scale=1\">"
   ]
  },
  {
   "cell_type": "raw",
   "metadata": {},
   "source": [
    "<img src=\"headshot_tom.jpg\" alt=\"\" height=200 style=\"display: block; margin-left: auto; margin-right: auto;\">"
   ]
  },
  {
   "cell_type": "markdown",
   "metadata": {},
   "source": [
    "## Tom Decroos - PhD Researcher in Machine Learning and Artificial Intelligence"
   ]
  },
  {
   "cell_type": "markdown",
   "metadata": {},
   "source": [
    "## About me\n",
    "I am a 3rd year PhD student in the DTAI Research group at KU Leuven working with Prof. [Jesse Davis](https://people.cs.kuleuven.be/~jesse.davis/).\n",
    "\n",
    "My research interests lie in _learning_ from complex data streams (both predictive and descriptive analytics), with a focus on soccer analytics."
   ]
  },
  {
   "cell_type": "markdown",
   "metadata": {},
   "source": [
    "## Publications\n",
    "\n",
    "#### 2019\n",
    "- Actions Speak Louder Than Goals: Valuing Player Actions in Soccer. _Tom Decroos, Lotte Bransen, Jan Van Haaren, Jesse Davis._ **KDD 2019**. [[paper pdf](reports/kdd19_tomd.pdf)]\n",
    "- Player Vectors: Characterizing Soccer Players' Playing Style from Match Event Streams. _Tom Decroos, Jesse Davis._ **ECML/PKDD 2019**. [[paper_pdf](reports/ecml19_tomd.pdf)]\n",
    "- Analyzing Soccer Players’ Skill Ratings Over Time Using Tensor-Based Methods. _Kenneth Verstraete, Tom Decroos, Bruno Coussement, Nick Vannieuwenhoven, Jesse Davis._ Machine Learning and Data Mining for Sports Analytics ECML/PKDD 2018 workshop.\n",
    "[[paper pdf](reports/mlsa19-verstraete.pdf)]\n",
    "\n",
    "#### 2018\n",
    "\n",
    "- Automatic Discovery of Tactics in Spatio-Temporal Soccer Match Data. _Tom Decroos, Jan Van Haaren, Jesse Davis._ **KDD 2018**.\n",
    "[[paper pdf](https://lirias.kuleuven.be/retrieve/510838)] [[slides pdf](reports/tactics-wide-v2.pdf)] [[slides pptx](reports/tactics-wide-v2.pptx)] [[poster pdf](reports/tactics-poster.pdf)]\n",
    "\n",
    "- AMIE: Automatic Monitoring of Indoor Exercises. _Tom Decroos, Kurt Schütte, Tim Op De Beéck, Benedicte Vanwanseele, Jesse Davis._ **ECML/PKDD 2018**.\n",
    "[[paper pdf](https://lirias.kuleuven.be/retrieve/514399)] [[slides pptx](reports/amie-v3.pptx)] [[poster pdf](reports/amie-poster.pdf)]\n",
    "\n",
    "- Characterizing Soccer Players' Playing Style from Match Event Streams. _Aron Geerts, Tom Decroos, Jesse Davis._ Machine Learning and Data Mining for Sports Analytics ECML/PKDD 2018 workshop.\n",
    "[[paper pdf](https://lirias.kuleuven.be/retrieve/517045)] [[slides pptx](reports/player-vectors-v2.pptx)]\n",
    "\n",
    "- Actions Speak Louder Than Goals: Valuing Player Actions in Soccer. _Tom Decroos\\*, Lotte Bransen\\*, Jan Van Haaren, Jesse Davis_. Arxiv.\n",
    "[[paper pdf](https://arxiv.org/pdf/1802.07127.pdf)]\n",
    "\n",
    "#### 2017\n",
    "\n",
    "- Predicting soccer highlights from spatio-temporal match event streams. _Tom Decroos, Vladimir Dzyuba, Jan Van Haaren, Jesse Davis._ **AAAI 2017**.\n",
    "[[paper pdf](https://lirias.kuleuven.be/retrieve/415729)] [[poster pdf](reports/AAAI17poster.pdf)]\n",
    "\n",
    "- STARSS: A spatio-temporal action rating system for soccer. _Tom Decroos, Jan Van Haaren, Vladimir Dzyuba, Jesse Davis._ Machine Learning and Data Mining for Sports Analytics ECML/PKDD 2017 workshop. [[paper pdf](https://lirias.kuleuven.be/retrieve/465691)]\n",
    "[[slides pdf](reports/STARSS.pdf)] [[slides pptx](reports/STARSS.pptx)]\n",
    "\n",
    "- Predicting the potential of professional soccer players. _Ruben Vroonen, Tom Decroos, Jan Van Haaren, Jesse Davis._ Machine Learning and Data Mining for Sports Analytics ECML/PKDD 2017 workshop. [[paper pdf](https://lirias.kuleuven.be/retrieve/465703)]\n",
    "[[slides pdf](reports/APROPOS.pdf)] [[slides pptx](reports/APROPOS.pptx)]\n",
    "\n",
    "You can also look at my [Lirias](https://lirias.kuleuven.be/cv?u=U0085417) or [google scholar](https://scholar.google.be/citations?user=qjT9xpQAAAAJ&hl=en)."
   ]
  },
  {
   "cell_type": "markdown",
   "metadata": {},
   "source": [
    "## Internships\n",
    "#### Software Engineer (Machine Learning) at Facebook\n",
    "PhD internship from June 2018 to August 2018 training and evaluating deep neural networks that recommend ads to over 2 billion users. I improved existing production models to (a) be more robust in A/A tests and (b) use less privacy-sensitive user data."
   ]
  },
  {
   "cell_type": "markdown",
   "metadata": {},
   "source": [
    "## Awards\n",
    "* Personal PhD scholarship (aspirant) from FWO Flanders from October 2017 until September 2021.\n",
    "* AAAI-17 Student Travel Scholarship by AAAI in December 2016.\n",
    "* KDD-19 Student Travel Scholarship by KDD in June 2019."
   ]
  },
  {
   "cell_type": "markdown",
   "metadata": {},
   "source": [
    "## Community service\n",
    "\n",
    "#### Reviewing\n",
    "- Reviewer for the [Machine Learning and Data Mining for Sports Analytics Workshop](https://dtai.cs.kuleuven.be/events/MLSA19) at [ECMLPKDD-19](http://ecmlpkdd2019.org/).\n",
    "- Reviewer for [ECMLPKDD-2019](http://www.ecmlpkdd2019.org/) \n",
    "- Reviewer for [IEEE VIS-2019](http://ieeevis.org/year/2019/welcome)\n",
    "- Subreviewer for [IJCAI-2019](https://ijcai19.org/)\n",
    "- Reviewer for  [AAAI-2019](https://aaai.org/Conferences/AAAI-19/)\n",
    "- Reviewer for the [Big Data](https://home.liebertpub.com/publications/big-data/611/overview) Journal\n",
    "- Reviewer for the [Machine Learning and Data Mining for Sports Analytics Workshop](https://dtai.cs.kuleuven.be/events/MLSA18) at [ECMLPKDD-18](http://ecmlpkdd2018.org/).\n",
    "- Reviewer for the [Machine Learning and Data Mining for Sports Analytics Workshop](https://dtai.cs.kuleuven.be/events/MLSA17) at [ECMLPKDD-17](http://ecmlpkdd2019.org/).\n",
    "- Subreviewer for [KDD-2017](http://www.kdd.org/kdd2017/).\n",
    "- Subreviewer for [UAI-2017](http://auai.org/uai2017/index.php).\n",
    "\n",
    "#### Organizing\n",
    "I co-organized a three day Spring workshop on mining and learning ([SMiLee](https://dtai.cs.kuleuven.be/smilee/)) for the ML group of KU Leuven in 2017."
   ]
  },
  {
   "cell_type": "markdown",
   "metadata": {},
   "source": [
    "## Didactical tasks\n",
    "I am/was a teaching assistant for the following courses:\n",
    "- Declarative languages (2018-2019)\n",
    "- Data structures and algorithms (2018-2019)\n",
    "- Declarative languages (2017-2018)\n",
    "- Data structures and algorithms (2017-2018)\n",
    "- Mathematical reasoning for computer scientists (2016-2017)\n",
    "- Data structures and algorithms (2016-2017)\n",
    "    \n",
    "I am/was a daily master's thesis advisor for the following students:\n",
    "- Tim Hofmans (2018-2019)\n",
    "- Nick Schouten (2018-2019)\n",
    "- Kenneth Verstraete (2017-2018)\n",
    "- Wouter Bruyninckx (2017-2018)\n",
    "- Aron Geerts (2017-2018)\n",
    "- Ruben Vroonen (2016-2017)\n",
    "\n",
    "I am the ombuds for both the Dutch Master Computerwetenschappen and the English Master in Computer Science at KU Leuven. You can reach me at ombuds-master@cs.kuleuven.be."
   ]
  },
  {
   "cell_type": "markdown",
   "metadata": {},
   "source": [
    "## Contact\n",
    "**Email**  \n",
    "[Send an email](https://people.cs.kuleuven.be/cgi-bin/e-post.pl?epost=Tom.Decroos)  \n",
    "\n",
    "**Phone**  \n",
    "+32 16 37 47 59  \n",
    "\n",
    "**Address**  \n",
    "Department of Computer Science, KU Leuven  \n",
    "Celestijnenlaan 200A box 2402  \n",
    "3001 Heverlee, Belgium  \n",
    "\n",
    "**Office**  \n",
    "200A.02.144\n",
    "\n",
    "You can also reach me via my [KU Leuven profile](https://www.kuleuven.be/wieiswie/en/person/00085417) and my [LinkedIn](https://www.linkedin.com/in/tom-decroos-97488980/)."
   ]
  },
  {
   "cell_type": "markdown",
   "metadata": {},
   "source": [
    "_Last update: 29/07/2019_"
   ]
  },
  {
   "cell_type": "raw",
   "metadata": {},
   "source": [
    "<!-- Global site tag (gtag.js) - Google Analytics -->\n",
    "<script async src=\"https://www.googletagmanager.com/gtag/js?id=UA-131168904-1\"></script>\n",
    "<script>\n",
    "  window.dataLayer = window.dataLayer || [];\n",
    "  function gtag(){dataLayer.push(arguments);}\n",
    "  gtag('js', new Date());\n",
    "\n",
    "  gtag('config', 'UA-131168904-1');\n",
    "</script>"
   ]
  }
 ],
 "metadata": {
  "kernelspec": {
   "display_name": "Python 3",
   "language": "python",
   "name": "python3"
  },
  "language_info": {
   "codemirror_mode": {
    "name": "ipython",
    "version": 3
   },
   "file_extension": ".py",
   "mimetype": "text/x-python",
   "name": "python",
   "nbconvert_exporter": "python",
   "pygments_lexer": "ipython3",
   "version": "3.7.1"
  }
 },
 "nbformat": 4,
 "nbformat_minor": 2
}
